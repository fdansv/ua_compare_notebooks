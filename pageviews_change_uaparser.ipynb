{
 "cells": [
  {
   "cell_type": "code",
   "execution_count": 3,
   "metadata": {},
   "outputs": [
    {
     "name": "stdout",
     "output_type": "stream",
     "text": [
      "The autoreload extension is already loaded. To reload it, use:\n",
      "  %reload_ext autoreload\n"
     ]
    }
   ],
   "source": [
    "%load_ext autoreload\n",
    "%autoreload 2"
   ]
  },
  {
   "cell_type": "code",
   "execution_count": 4,
   "metadata": {},
   "outputs": [
    {
     "name": "stdout",
     "output_type": "stream",
     "text": [
      "Requirement already satisfied: thriftpy==0.3.9 in ./venv/lib/python3.5/site-packages (0.3.9)\n",
      "\u001b[31mException:\n",
      "Traceback (most recent call last):\n",
      "  File \"/home/fdans/venv/lib/python3.5/site-packages/pip/_internal/basecommand.py\", line 228, in main\n",
      "    status = self.run(options, args)\n",
      "  File \"/home/fdans/venv/lib/python3.5/site-packages/pip/_internal/commands/install.py\", line 291, in run\n",
      "    resolver.resolve(requirement_set)\n",
      "  File \"/home/fdans/venv/lib/python3.5/site-packages/pip/_internal/resolve.py\", line 103, in resolve\n",
      "    self._resolve_one(requirement_set, req)\n",
      "  File \"/home/fdans/venv/lib/python3.5/site-packages/pip/_internal/resolve.py\", line 262, in _resolve_one\n",
      "    check_dist_requires_python(dist)\n",
      "  File \"/home/fdans/venv/lib/python3.5/site-packages/pip/_internal/utils/packaging.py\", line 46, in check_dist_requires_python\n",
      "    feed_parser.feed(metadata)\n",
      "  File \"/usr/lib/python3.5/email/feedparser.py\", line 178, in feed\n",
      "    self._input.push(data)\n",
      "  File \"/usr/lib/python3.5/email/feedparser.py\", line 104, in push\n",
      "    self._partial.write(data)\n",
      "TypeError: string argument expected, got 'NoneType'\u001b[0m\n",
      "\u001b[33mYou are using pip version 10.0.1, however version 18.0 is available.\n",
      "You should consider upgrading via the 'pip install --upgrade pip' command.\u001b[0m\n",
      "Requirement already satisfied: thrift==0.9.3 in ./venv/lib/python3.5/site-packages (0.9.3)\n",
      "\u001b[31mCould not install packages due to an EnvironmentError: [Errno 2] No such file or directory: '/srv/home/fdans/venv/lib/python3.5/site-packages/thriftpy-0.3.9.dist-info/METADATA'\n",
      "\u001b[0m\n",
      "\u001b[33mYou are using pip version 10.0.1, however version 18.0 is available.\n",
      "You should consider upgrading via the 'pip install --upgrade pip' command.\u001b[0m\n",
      "Requirement already satisfied: thrift-sasl==0.2.1 in ./venv/lib/python3.5/site-packages (0.2.1)\n",
      "Requirement already satisfied: sasl>=0.2.1 in ./venv/lib/python3.5/site-packages (from thrift-sasl==0.2.1) (0.2.1)\n",
      "\u001b[31mException:\n",
      "Traceback (most recent call last):\n",
      "  File \"/home/fdans/venv/lib/python3.5/site-packages/pip/_internal/basecommand.py\", line 228, in main\n",
      "    status = self.run(options, args)\n",
      "  File \"/home/fdans/venv/lib/python3.5/site-packages/pip/_internal/commands/install.py\", line 291, in run\n",
      "    resolver.resolve(requirement_set)\n",
      "  File \"/home/fdans/venv/lib/python3.5/site-packages/pip/_internal/resolve.py\", line 103, in resolve\n",
      "    self._resolve_one(requirement_set, req)\n",
      "  File \"/home/fdans/venv/lib/python3.5/site-packages/pip/_internal/resolve.py\", line 262, in _resolve_one\n",
      "    check_dist_requires_python(dist)\n",
      "  File \"/home/fdans/venv/lib/python3.5/site-packages/pip/_internal/utils/packaging.py\", line 46, in check_dist_requires_python\n",
      "    feed_parser.feed(metadata)\n",
      "  File \"/usr/lib/python3.5/email/feedparser.py\", line 178, in feed\n",
      "    self._input.push(data)\n",
      "  File \"/usr/lib/python3.5/email/feedparser.py\", line 104, in push\n",
      "    self._partial.write(data)\n",
      "TypeError: string argument expected, got 'NoneType'\u001b[0m\n",
      "\u001b[33mYou are using pip version 10.0.1, however version 18.0 is available.\n",
      "You should consider upgrading via the 'pip install --upgrade pip' command.\u001b[0m\n",
      "Requirement already satisfied: sasl==0.2.1 in ./venv/lib/python3.5/site-packages (0.2.1)\n",
      "\u001b[31mException:\n",
      "Traceback (most recent call last):\n",
      "  File \"/home/fdans/venv/lib/python3.5/site-packages/pip/_internal/basecommand.py\", line 228, in main\n",
      "    status = self.run(options, args)\n",
      "  File \"/home/fdans/venv/lib/python3.5/site-packages/pip/_internal/commands/install.py\", line 291, in run\n",
      "    resolver.resolve(requirement_set)\n",
      "  File \"/home/fdans/venv/lib/python3.5/site-packages/pip/_internal/resolve.py\", line 103, in resolve\n",
      "    self._resolve_one(requirement_set, req)\n",
      "  File \"/home/fdans/venv/lib/python3.5/site-packages/pip/_internal/resolve.py\", line 262, in _resolve_one\n",
      "    check_dist_requires_python(dist)\n",
      "  File \"/home/fdans/venv/lib/python3.5/site-packages/pip/_internal/utils/packaging.py\", line 46, in check_dist_requires_python\n",
      "    feed_parser.feed(metadata)\n",
      "  File \"/usr/lib/python3.5/email/feedparser.py\", line 178, in feed\n",
      "    self._input.push(data)\n",
      "  File \"/usr/lib/python3.5/email/feedparser.py\", line 104, in push\n",
      "    self._partial.write(data)\n",
      "TypeError: string argument expected, got 'NoneType'\u001b[0m\n",
      "\u001b[33mYou are using pip version 10.0.1, however version 18.0 is available.\n",
      "You should consider upgrading via the 'pip install --upgrade pip' command.\u001b[0m\n",
      "Requirement already satisfied: six in ./venv/lib/python3.5/site-packages (1.11.0)\n",
      "\u001b[31mCould not install packages due to an EnvironmentError: [Errno 2] No such file or directory: '/srv/home/fdans/venv/lib/python3.5/site-packages/thriftpy-0.3.9.dist-info/METADATA'\n",
      "\u001b[0m\n",
      "\u001b[33mYou are using pip version 10.0.1, however version 18.0 is available.\n",
      "You should consider upgrading via the 'pip install --upgrade pip' command.\u001b[0m\n",
      "Requirement already satisfied: bit_array in ./venv/lib/python3.5/site-packages (0.1.0)\n",
      "\u001b[31mCould not install packages due to an EnvironmentError: [Errno 2] No such file or directory: '/srv/home/fdans/venv/lib/python3.5/site-packages/thriftpy-0.3.9.dist-info/METADATA'\n",
      "\u001b[0m\n",
      "\u001b[33mYou are using pip version 10.0.1, however version 18.0 is available.\n",
      "You should consider upgrading via the 'pip install --upgrade pip' command.\u001b[0m\n",
      "Collecting impyla\n",
      "  Using cached https://files.pythonhosted.org/packages/80/93/f0d226061ee4679d5b593c88c7b2e9e077a271c799d29facf31bf03666c1/impyla-0.14.1.tar.gz\n",
      "Requirement already satisfied: six in ./venv/lib/python3.5/site-packages (from impyla) (1.11.0)\n",
      "Requirement already satisfied: bitarray in ./venv/lib/python3.5/site-packages (from impyla) (0.8.2)\n",
      "Requirement already satisfied: thriftpy>=0.3.5 in ./venv/lib/python3.5/site-packages (from impyla) (0.3.9)\n",
      "\u001b[31mException:\n",
      "Traceback (most recent call last):\n",
      "  File \"/home/fdans/venv/lib/python3.5/site-packages/pip/_internal/basecommand.py\", line 228, in main\n",
      "    status = self.run(options, args)\n",
      "  File \"/home/fdans/venv/lib/python3.5/site-packages/pip/_internal/commands/install.py\", line 291, in run\n",
      "    resolver.resolve(requirement_set)\n",
      "  File \"/home/fdans/venv/lib/python3.5/site-packages/pip/_internal/resolve.py\", line 103, in resolve\n",
      "    self._resolve_one(requirement_set, req)\n",
      "  File \"/home/fdans/venv/lib/python3.5/site-packages/pip/_internal/resolve.py\", line 262, in _resolve_one\n",
      "    check_dist_requires_python(dist)\n",
      "  File \"/home/fdans/venv/lib/python3.5/site-packages/pip/_internal/utils/packaging.py\", line 46, in check_dist_requires_python\n",
      "    feed_parser.feed(metadata)\n",
      "  File \"/usr/lib/python3.5/email/feedparser.py\", line 178, in feed\n",
      "    self._input.push(data)\n",
      "  File \"/usr/lib/python3.5/email/feedparser.py\", line 104, in push\n",
      "    self._partial.write(data)\n",
      "TypeError: string argument expected, got 'NoneType'\u001b[0m\n",
      "\u001b[33mYou are using pip version 10.0.1, however version 18.0 is available.\n",
      "You should consider upgrading via the 'pip install --upgrade pip' command.\u001b[0m\n"
     ]
    },
    {
     "ename": "ImportError",
     "evalue": "No module named 'impyla'",
     "output_type": "error",
     "traceback": [
      "\u001b[0;31m---------------------------------------------------------------------------\u001b[0m",
      "\u001b[0;31mImportError\u001b[0m                               Traceback (most recent call last)",
      "\u001b[0;32m<ipython-input-4-23d20b89e979>\u001b[0m in \u001b[0;36m<module>\u001b[0;34m()\u001b[0m\n\u001b[1;32m      6\u001b[0m \u001b[0mget_ipython\u001b[0m\u001b[0;34m(\u001b[0m\u001b[0;34m)\u001b[0m\u001b[0;34m.\u001b[0m\u001b[0msystem\u001b[0m\u001b[0;34m(\u001b[0m\u001b[0;34m'pip3 install bit_array'\u001b[0m\u001b[0;34m)\u001b[0m\u001b[0;34m\u001b[0m\u001b[0m\n\u001b[1;32m      7\u001b[0m \u001b[0mget_ipython\u001b[0m\u001b[0;34m(\u001b[0m\u001b[0;34m)\u001b[0m\u001b[0;34m.\u001b[0m\u001b[0msystem\u001b[0m\u001b[0;34m(\u001b[0m\u001b[0;34m'pip3 install impyla'\u001b[0m\u001b[0;34m)\u001b[0m\u001b[0;34m\u001b[0m\u001b[0m\n\u001b[0;32m----> 8\u001b[0;31m \u001b[0;32mfrom\u001b[0m \u001b[0mimpyla\u001b[0m\u001b[0;34m.\u001b[0m\u001b[0mdbapi\u001b[0m \u001b[0;32mimport\u001b[0m \u001b[0mconnect\u001b[0m\u001b[0;34m\u001b[0m\u001b[0m\n\u001b[0m",
      "\u001b[0;31mImportError\u001b[0m: No module named 'impyla'"
     ]
    }
   ],
   "source": [
    "!pip3 install thriftpy==0.3.9\n",
    "!pip3 install thrift==0.9.3\n",
    "!pip3 install thrift-sasl==0.2.1\n",
    "!pip3 install sasl==0.2.1\n",
    "!pip3 install six\n",
    "!pip3 install bit_array\n",
    "!pip3 install impyla\n",
    "from impyla.dbapi import connect"
   ]
  },
  {
   "cell_type": "code",
   "execution_count": null,
   "metadata": {},
   "outputs": [],
   "source": [
    "hive_conn = connect(host='analytics1003.eqiad.wmnet', port=10000, auth_mechanism='PLAIN')"
   ]
  },
  {
   "cell_type": "code",
   "execution_count": null,
   "metadata": {},
   "outputs": [],
   "source": [
    "hive_cursor = hive_conn.cursor()"
   ]
  },
  {
   "cell_type": "code",
   "execution_count": null,
   "metadata": {},
   "outputs": [],
   "source": [
    "hive_cursor.execute('SELECT user_agent, count(*) as pageviews FROM wmf.webrequest WHERE year=2018 and month=4 and day=15 and hour=12 and is_pageview=true group by user_agent')"
   ]
  },
  {
   "cell_type": "code",
   "execution_count": null,
   "metadata": {},
   "outputs": [],
   "source": [
    "all_the_rows = hive_cursor.fetchall()\n",
    "print(all_the_rows[0])"
   ]
  },
  {
   "cell_type": "code",
   "execution_count": null,
   "metadata": {},
   "outputs": [],
   "source": [
    "print(\"Total requests (number coming from manual hive query): 384,683,254\")"
   ]
  },
  {
   "cell_type": "code",
   "execution_count": null,
   "metadata": {},
   "outputs": [],
   "source": [
    "total_pageviews = sum(row[1] for row in all_the_rows)\n",
    "print(\"Total pageviews: \" + str(total_pageviews))"
   ]
  },
  {
   "cell_type": "code",
   "execution_count": null,
   "metadata": {},
   "outputs": [],
   "source": []
  },
  {
   "cell_type": "code",
   "execution_count": null,
   "metadata": {},
   "outputs": [],
   "source": [
    "!pip install ua-parser==0.7.3\n",
    "print(user_agent_parser.Parse(\"%E6%AC%A7%E8%B7%AF%E8%AF%8D%E5%85%B8/8.7.0.4 CFNetwork/894 Darwin/17.4.0\"))"
   ]
  },
  {
   "cell_type": "code",
   "execution_count": null,
   "metadata": {},
   "outputs": [],
   "source": [
    "# OLD UAPARSER\n",
    "!pip install ua-parser==0.7.3\n",
    "from ua_parser import user_agent_parser\n",
    "old_values = []\n",
    "for row in all_the_rows:\n",
    "    old_values.append((user_agent_parser.Parse(row[0]), row[1]))"
   ]
  },
  {
   "cell_type": "code",
   "execution_count": null,
   "metadata": {},
   "outputs": [],
   "source": [
    "!pip install ua-parser==0.8.0\n",
    "from ua_parser import user_agent_parser\n",
    "print(user_agent_parser.Parse(\"Mozilla/4.0 (compatible; MSIE 7.0; Windows NT 6.1; Trident/4.0; SLCC2; .NET CLR 2.0.50727; .NET CLR 3.5.30729; .NET CLR 3.0.30729; Media Center PC 6.0)\"))"
   ]
  },
  {
   "cell_type": "code",
   "execution_count": null,
   "metadata": {},
   "outputs": [],
   "source": [
    "# NEW UAPARSER\n",
    "!pip install ua-parser==0.8.0\n",
    "from ua_parser import user_agent_parser\n",
    "new_values = []\n",
    "for row in all_the_rows:\n",
    "    new_values.append((user_agent_parser.Parse(row[0]), row[1]))"
   ]
  },
  {
   "cell_type": "code",
   "execution_count": null,
   "metadata": {},
   "outputs": [],
   "source": [
    "differing_pageview_useragents = []\n",
    "differing_pageviews = 0\n",
    "for i, row_old in enumerate(old_values):\n",
    "    row_new = new_values[i]\n",
    "    if (row_old != row_new):\n",
    "        differing_pageviews += row_old[1]\n",
    "        differing_pageview_useragents.append((row_old[0], row_new[0], row_old[1]))\n",
    "print(\"User Agent strings that are parsed differently: \" + str(len(differing_pageview_useragents)))\n",
    "print(\"Pageviews whose UA is parsed differently: \" + str(differing_pageviews))\n",
    "print(\"Percentage: \" + str(differing_pageviews / total_pageviews *100))"
   ]
  },
  {
   "cell_type": "code",
   "execution_count": null,
   "metadata": {},
   "outputs": [],
   "source": [
    "import pprint\n",
    "pp = pprint.PrettyPrinter(indent=4)\n",
    "print(\"This is the OS family distribution of the differing pageviews, according to the old UA Parser:\")\n",
    "pp.pprint(getDistributionFor('os', 'family'))"
   ]
  },
  {
   "cell_type": "code",
   "execution_count": null,
   "metadata": {},
   "outputs": [],
   "source": [
    "print(\"This is the OS family distribution of the differing pageviews, according to the NEW UA Parser:\")\n",
    "pp.pprint(getNewDistributionFor('os', 'family'))"
   ]
  },
  {
   "cell_type": "code",
   "execution_count": null,
   "metadata": {},
   "outputs": [],
   "source": [
    "print(\"This is the OS family distribution of the differing pageviews, according to the old UA Parser:\")\n",
    "pp.pprint(getDistributionForExcludingWindows('device', 'brand'))"
   ]
  },
  {
   "cell_type": "code",
   "execution_count": null,
   "metadata": {},
   "outputs": [],
   "source": [
    "print(pp.pprint(getMovementFromIE7()))"
   ]
  },
  {
   "cell_type": "code",
   "execution_count": null,
   "metadata": {},
   "outputs": [],
   "source": [
    "pp.pprint(getIE7MovedUAStrings())"
   ]
  },
  {
   "cell_type": "code",
   "execution_count": null,
   "metadata": {},
   "outputs": [],
   "source": [
    "def getDistributionFor(uafield, uasubfield):\n",
    "    distribution = {}\n",
    "    for i,row_old in enumerate(old_values):\n",
    "        views = row_old[1]\n",
    "        row_new = new_values[i]\n",
    "        k = str(row_old[0][uafield][uasubfield])\n",
    "        if (row_old != row_new):\n",
    "            if k not in distribution:\n",
    "                distribution[k] = views\n",
    "            else:\n",
    "                distribution[k] += views\n",
    "    return distribution"
   ]
  },
  {
   "cell_type": "code",
   "execution_count": null,
   "metadata": {},
   "outputs": [],
   "source": [
    "def getNewDistributionFor(uafield, uasubfield):\n",
    "    distribution = {}\n",
    "    for i,row_old in enumerate(old_values):\n",
    "        views = row_old[1]\n",
    "        row_new = new_values[i]\n",
    "        k = str(row_new[0][uafield][uasubfield])\n",
    "        if (row_old != row_new):\n",
    "            if k not in distribution:\n",
    "                distribution[k] = views\n",
    "            else:\n",
    "                distribution[k] += views\n",
    "    return distribution"
   ]
  },
  {
   "cell_type": "code",
   "execution_count": null,
   "metadata": {},
   "outputs": [],
   "source": [
    "def getDistributionForExcludingWindows(uafield, uasubfield):\n",
    "    distribution = {}\n",
    "    for i,row_old in enumerate(old_values):\n",
    "        views = row_old[1]\n",
    "        row_new = new_values[i]\n",
    "        k = str(row_old[0][uafield][uasubfield])\n",
    "        if (row_old != row_new and row_new[0]['os']['family'] != 'Windows'):\n",
    "            if k not in distribution:\n",
    "                distribution[k] = views\n",
    "            else:\n",
    "                distribution[k] += views\n",
    "    return distribution"
   ]
  },
  {
   "cell_type": "code",
   "execution_count": null,
   "metadata": {},
   "outputs": [],
   "source": [
    "def getMovementFromIE7():\n",
    "    distribution = {}\n",
    "    for i,row_old in enumerate(old_values):\n",
    "        views = row_old[1]\n",
    "        row_new = new_values[i]\n",
    "        k = str(row_old[0]['user_agent']['family']) + \" \" + str(row_old[0]['user_agent']['major']) + \"=>\" + str(row_new[0]['user_agent']['family']) + \" \" + str(row_new[0]['user_agent']['major'])\n",
    "        if (row_old != row_new and row_new[0]['user_agent']['family'] == 'IE'):\n",
    "            if k not in distribution:\n",
    "                distribution[k] = views\n",
    "            else:\n",
    "                distribution[k] += views\n",
    "    return distribution"
   ]
  },
  {
   "cell_type": "code",
   "execution_count": null,
   "metadata": {},
   "outputs": [],
   "source": [
    "def getIE7MovedUAStrings():\n",
    "    distribution = {}\n",
    "    for i,row_old in enumerate(old_values):\n",
    "        views = row_old[1]\n",
    "        row_new = new_values[i]\n",
    "        k = str(row_old[0]['string'])\n",
    "        if (row_old != row_new and row_old[0]['user_agent']['family'] == 'IE' and row_old[0]['user_agent']['major'] == '7' and row_new[0]['user_agent']['major'] == '11'):\n",
    "            if k not in distribution:\n",
    "                distribution[k] = views\n",
    "            else:\n",
    "                distribution[k] += views\n",
    "    return distribution"
   ]
  },
  {
   "cell_type": "code",
   "execution_count": null,
   "metadata": {},
   "outputs": [],
   "source": [
    "import re\n",
    "def is_bot(device_family, user_agent):\n",
    "    bot_ua_pattern = re.compile('(.*(bot|spider|WordPress|AppEngine|AppleDictionar'\n",
    "                            'yService|Python-urllib|python-requests|Google-HTT'\n",
    "                            'P-Java-Client|[Ff]acebook|[Yy]ahoo|RockPeaks|http'\n",
    "                            ').*|(goo wikipedia|MediaWikiCrawler-Google|wikiwi'\n",
    "                            'x-bot|Java|curl|PHP|Faraday|HTTPC|Ruby|\\.NET|Pyth'\n",
    "                            'on|Apache|Scrapy|PycURL|libwww|Zend|wget|nodemw|W'\n",
    "                            'inHttpRaw|Twisted|com\\.eusoft|Lagotto|Peggo|Recuw'\n",
    "                            'eb|check_http|Magnus|MLD|Jakarta|find-link|J\\. Ri'\n",
    "                            'ver|projectplan9|ADmantX|httpunit|LWP|iNaturalist'\n",
    "                            '|WikiDemo|FSResearchIt|livedoor|Microsoft Monitor'\n",
    "                            'ing|MediaWiki|User:|User_talk:|github|tools.wmfla'\n",
    "                            'bs.org|Blackboard Safeassign|Damn Small XSS|\\S+@'\n",
    "                            '\\S+\\.[a-zA-Z]{2,3}).*)$')\n",
    "    \"\"\"\n",
    "    Tests the raw user agent string against a bot regular expression\n",
    "    if uaparser isn't already marking it as a spider\n",
    "    \"\"\"\n",
    "    if device_family == 'Spider':\n",
    "        return True\n",
    "    elif device_family == 'Other':\n",
    "        ua_string = user_agent.strip('\"')\n",
    "        return bool(bot_ua_pattern.match(ua_string))\n",
    "    return False"
   ]
  },
  {
   "cell_type": "code",
   "execution_count": null,
   "metadata": {},
   "outputs": [],
   "source": [
    "!pip install ua-parser==0.7.3\n",
    "for row in all_the_rows:\n",
    "    print(row)\n",
    "    break"
   ]
  },
  {
   "cell_type": "code",
   "execution_count": null,
   "metadata": {},
   "outputs": [],
   "source": []
  }
 ],
 "metadata": {
  "kernelspec": {
   "display_name": "Python 3",
   "language": "python",
   "name": "python3"
  },
  "language_info": {
   "codemirror_mode": {
    "name": "ipython",
    "version": 3
   },
   "file_extension": ".py",
   "mimetype": "text/x-python",
   "name": "python",
   "nbconvert_exporter": "python",
   "pygments_lexer": "ipython3",
   "version": "3.5.3"
  }
 },
 "nbformat": 4,
 "nbformat_minor": 2
}
