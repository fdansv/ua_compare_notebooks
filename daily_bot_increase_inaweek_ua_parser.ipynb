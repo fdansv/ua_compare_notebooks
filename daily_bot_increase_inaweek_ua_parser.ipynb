{
 "cells": [
  {
   "cell_type": "code",
   "execution_count": 23,
   "metadata": {},
   "outputs": [],
   "source": [
    "from pyhive import hive"
   ]
  },
  {
   "cell_type": "code",
   "execution_count": 25,
   "metadata": {},
   "outputs": [],
   "source": [
    "def run_hive_query(query):\n",
    "    cursor = hive.connect('analytics1003.eqiad.wmnet', 10000).cursor()\n",
    "    cursor.execute(query)\n",
    "    return cursor.fetchall()"
   ]
  },
  {
   "cell_type": "code",
   "execution_count": null,
   "metadata": {},
   "outputs": [],
   "source": [
    "def create_slice_table():\n",
    "    run_hive_query(\"\"\"\n",
    "        create table fdans.ua_week_sample2 as\n",
    "            select user_agent, user_agent_map as after, ua_parser(user_agent) as before, agent_type, day\n",
    "            from wmf.webrequest\n",
    "            where webrequest_source='text'\n",
    "            and year = 2018\n",
    "            and month = 7\n",
    "            and array_contains(array(8,9,10,11,12,13,14), day)\n",
    "            and is_pageview;\n",
    "    \"\"\")"
   ]
  },
  {
   "cell_type": "code",
   "execution_count": 28,
   "metadata": {},
   "outputs": [
    {
     "name": "stdout",
     "output_type": "stream",
     "text": [
      "TOTAL PAGEVIEW COUNT:  4309356985\n"
     ]
    }
   ],
   "source": [
    "number_of_pageviews = run_hive_query('SELECT count(1) from fdans.ua_week_sample2')[0][0]\n",
    "print('TOTAL PAGEVIEW COUNT: ', number_of_pageviews)"
   ]
  },
  {
   "cell_type": "code",
   "execution_count": 31,
   "metadata": {},
   "outputs": [],
   "source": [
    "number_of_spiders_before = run_hive_query(\"SELECT SUM(views) from fdans.ua_week_maps where before['device_family']='Spider'\")"
   ]
  },
  {
   "cell_type": "code",
   "execution_count": null,
   "metadata": {},
   "outputs": [],
   "source": [
    "print('TOTAL SPIDERS BEFORE:', number_of_spiders_before[0][0] )"
   ]
  },
  {
   "cell_type": "code",
   "execution_count": 33,
   "metadata": {},
   "outputs": [],
   "source": [
    "increment_per_day = run_hive_query('''\n",
    "with \n",
    "bots_before as (\n",
    "    select day, count(1) views_before\n",
    "    from fdans.ua_week_sample2\n",
    "    where before['device_family'] = 'Spider'\n",
    "    group by day\n",
    "),\n",
    "bots_after as (\n",
    "    select day, count(1) views_after\n",
    "    from fdans.ua_week_sample2\n",
    "    where after['device_family'] = 'Spider'\n",
    "    group by day\n",
    ")\n",
    "select bots_before.day, bots_before.views_before, a.views_after, 100*(a.views_after - bots_before.views_before)/bots_before.views_before from bots_before\n",
    "join bots_after a on (bots_before.day = a.day)\n",
    "''')"
   ]
  },
  {
   "cell_type": "code",
   "execution_count": 36,
   "metadata": {},
   "outputs": [
    {
     "name": "stdout",
     "output_type": "stream",
     "text": [
      "Starts Sunday July 8\n",
      "8 0.24473130227252016\n",
      "9 0.28833015440792586\n",
      "10 0.30091474582320593\n",
      "11 0.30980127867718077\n",
      "12 0.29938768251170145\n",
      "13 0.2961167522526749\n",
      "14 0.26241725804885935\n"
     ]
    }
   ],
   "source": [
    "print('Starts Sunday July 8')\n",
    "for day in increment_per_day:\n",
    "    print(day[0], day[3])"
   ]
  },
  {
   "cell_type": "code",
   "execution_count": null,
   "metadata": {},
   "outputs": [],
   "source": []
  }
 ],
 "metadata": {
  "kernelspec": {
   "display_name": "Python 3",
   "language": "python",
   "name": "python3"
  },
  "language_info": {
   "codemirror_mode": {
    "name": "ipython",
    "version": 3
   },
   "file_extension": ".py",
   "mimetype": "text/x-python",
   "name": "python",
   "nbconvert_exporter": "python",
   "pygments_lexer": "ipython3",
   "version": "3.5.3"
  }
 },
 "nbformat": 4,
 "nbformat_minor": 2
}
